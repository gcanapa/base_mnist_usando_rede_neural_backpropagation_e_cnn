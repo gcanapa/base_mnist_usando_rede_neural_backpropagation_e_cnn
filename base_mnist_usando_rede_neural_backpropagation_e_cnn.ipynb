{
  "nbformat": 4,
  "nbformat_minor": 0,
  "metadata": {
    "colab": {
      "provenance": [],
      "authorship_tag": "ABX9TyMNfMK08PY8odt+USDlMoMv",
      "include_colab_link": true
    },
    "kernelspec": {
      "name": "python3",
      "display_name": "Python 3"
    },
    "language_info": {
      "name": "python"
    }
  },
  "cells": [
    {
      "cell_type": "markdown",
      "metadata": {
        "id": "view-in-github",
        "colab_type": "text"
      },
      "source": [
        "<a href=\"https://colab.research.google.com/github/gcanapa/base_mnist_usando_rede_neural_backpropagation_e_cnn/blob/main/base_mnist_usando_rede_neural_backpropagation_e_cnn.ipynb\" target=\"_parent\"><img src=\"https://colab.research.google.com/assets/colab-badge.svg\" alt=\"Open In Colab\"/></a>"
      ]
    },
    {
      "cell_type": "markdown",
      "source": [
        "Importando as bibliotecas necessárias"
      ],
      "metadata": {
        "id": "wMPfUYzcr9jz"
      }
    },
    {
      "cell_type": "code",
      "source": [
        "import numpy as np\n",
        "import tensorflow as tf\n",
        "from tensorflow.keras.datasets import mnist"
      ],
      "metadata": {
        "id": "pFuY2y1zr7X1"
      },
      "execution_count": 1,
      "outputs": []
    },
    {
      "cell_type": "markdown",
      "source": [
        "Carregando dados do MNIST\n"
      ],
      "metadata": {
        "id": "T6-OSElqr9V4"
      }
    },
    {
      "cell_type": "code",
      "source": [
        "(x_train, y_train), (x_test, y_test) = mnist.load_data()"
      ],
      "metadata": {
        "id": "6nHMNDgksaNN",
        "colab": {
          "base_uri": "https://localhost:8080/",
          "height": 0
        },
        "outputId": "ff759d0c-c540-4778-fc8b-2bad71b0fab2"
      },
      "execution_count": 2,
      "outputs": [
        {
          "output_type": "stream",
          "name": "stdout",
          "text": [
            "Downloading data from https://storage.googleapis.com/tensorflow/tf-keras-datasets/mnist.npz\n",
            "11490434/11490434 [==============================] - 0s 0us/step\n"
          ]
        }
      ]
    },
    {
      "cell_type": "markdown",
      "source": [
        "Pré-processando dados "
      ],
      "metadata": {
        "id": "lGBOIZo8sdc2"
      }
    },
    {
      "cell_type": "code",
      "source": [
        "# Normalizar os pixels para o intervalo [0, 1]\n",
        "x_train = x_train / 255.0\n",
        "x_test = x_test / 255.0\n",
        "\n",
        "# Redimensionar as imagens para o tamanho desejado (por exemplo, 28x28 pixels)\n",
        "x_train = np.expand_dims(x_train, axis=-1)\n",
        "x_test = np.expand_dims(x_test, axis=-1)\n",
        "\n",
        "# Codificar os rótulos usando one-hot encoding\n",
        "y_train = tf.keras.utils.to_categorical(y_train, num_classes=10)\n",
        "y_test = tf.keras.utils.to_categorical(y_test, num_classes=10)\n"
      ],
      "metadata": {
        "id": "yag1oVMKsikT"
      },
      "execution_count": 3,
      "outputs": []
    },
    {
      "cell_type": "markdown",
      "source": [
        "**Defindo a arquitetura da Backpropagation**\n",
        "# **Teste 1:**\n",
        "\n"
      ],
      "metadata": {
        "id": "Xg8eq5bDsnLs"
      }
    },
    {
      "cell_type": "code",
      "source": [
        "model = tf.keras.models.Sequential([\n",
        "    tf.keras.layers.Flatten(input_shape=(28, 28, 1)),\n",
        "    tf.keras.layers.Dense(128, activation='relu'),\n",
        "    tf.keras.layers.Dense(10, activation='softmax')\n",
        "])"
      ],
      "metadata": {
        "id": "32A0e27Gs87D"
      },
      "execution_count": null,
      "outputs": []
    },
    {
      "cell_type": "markdown",
      "source": [
        "Nesse exemplo, a rede neural possui uma camada de entrada flattenizada (transformando a imagem 28x28 em um vetor de tamanho 784), uma camada oculta com 128 neurônios usando a função de ativação ReLU, e uma camada de saída com 10 neurônios usando a função de ativação softmax para classificação multiclasse."
      ],
      "metadata": {
        "id": "7fx3jPQdtD4X"
      }
    },
    {
      "cell_type": "markdown",
      "source": [
        "Compilando o modelo"
      ],
      "metadata": {
        "id": "i6iB4kL5trZ7"
      }
    },
    {
      "cell_type": "code",
      "source": [
        "model.compile(optimizer='sgd', loss='categorical_crossentropy', metrics=['accuracy'])\n"
      ],
      "metadata": {
        "id": "1Rg36Pw6tG5c"
      },
      "execution_count": null,
      "outputs": []
    },
    {
      "cell_type": "markdown",
      "source": [
        "Utilizando o otimizador SGD (Stochastic Gradient Descent) e a função de perda categorical_crossentropy, que é comumente usada em problemas de classificação multiclasse."
      ],
      "metadata": {
        "id": "lI4LgzA8tzgd"
      }
    },
    {
      "cell_type": "markdown",
      "source": [
        "Treinando o modelo usando a Backpropagation"
      ],
      "metadata": {
        "id": "_WT7FsVauWUS"
      }
    },
    {
      "cell_type": "code",
      "source": [
        "model.fit(x_train, y_train, batch_size=32, epochs=10)"
      ],
      "metadata": {
        "colab": {
          "base_uri": "https://localhost:8080/"
        },
        "id": "SSzp_bgBt4_V",
        "outputId": "a1419488-fb94-4abd-a3a6-a2256ffa3667"
      },
      "execution_count": null,
      "outputs": [
        {
          "output_type": "stream",
          "name": "stdout",
          "text": [
            "Epoch 1/10\n",
            "1875/1875 [==============================] - 7s 3ms/step - loss: 0.6271 - accuracy: 0.8432\n",
            "Epoch 2/10\n",
            "1875/1875 [==============================] - 7s 4ms/step - loss: 0.3326 - accuracy: 0.9082\n",
            "Epoch 3/10\n",
            "1875/1875 [==============================] - 6s 3ms/step - loss: 0.2865 - accuracy: 0.9199\n",
            "Epoch 4/10\n",
            "1875/1875 [==============================] - 7s 4ms/step - loss: 0.2566 - accuracy: 0.9283\n",
            "Epoch 5/10\n",
            "1875/1875 [==============================] - 6s 3ms/step - loss: 0.2339 - accuracy: 0.9348\n",
            "Epoch 6/10\n",
            "1875/1875 [==============================] - 7s 4ms/step - loss: 0.2153 - accuracy: 0.9403\n",
            "Epoch 7/10\n",
            "1875/1875 [==============================] - 6s 3ms/step - loss: 0.1996 - accuracy: 0.9446\n",
            "Epoch 8/10\n",
            "1875/1875 [==============================] - 7s 4ms/step - loss: 0.1863 - accuracy: 0.9481\n",
            "Epoch 9/10\n",
            "1875/1875 [==============================] - 5s 3ms/step - loss: 0.1745 - accuracy: 0.9511\n",
            "Epoch 10/10\n",
            "1875/1875 [==============================] - 7s 4ms/step - loss: 0.1641 - accuracy: 0.9545\n"
          ]
        },
        {
          "output_type": "execute_result",
          "data": {
            "text/plain": [
              "<keras.callbacks.History at 0x7f8377171f90>"
            ]
          },
          "metadata": {},
          "execution_count": 7
        }
      ]
    },
    {
      "cell_type": "markdown",
      "source": [
        "Estamos treinando o modelo com os dados de treinamento (x_train e y_train) durante 10 épocas, com um tamanho de lote (batch_size) de 32.\n",
        "\n",
        "Durante o treinamento, o TensorFlow irá automaticamente realizar a propagação para frente (forward propagation), onde os dados são passados pela rede neural, e a retropropagação do erro (backward propagation), onde os gradientes são calculados e os pesos da rede são atualizados usando o algoritmo de otimização escolhido (SGD neste caso)."
      ],
      "metadata": {
        "id": "TIFk0lMsuTf7"
      }
    },
    {
      "cell_type": "markdown",
      "source": [
        "Avaliando o desempenho:"
      ],
      "metadata": {
        "id": "cf-0kr26usbs"
      }
    },
    {
      "cell_type": "code",
      "source": [
        "test_loss, test_accuracy = model.evaluate(x_test, y_test)\n"
      ],
      "metadata": {
        "colab": {
          "base_uri": "https://localhost:8080/"
        },
        "id": "vnZCsQhRupor",
        "outputId": "567b3896-89f3-4588-a0cd-f6e90d58fe85"
      },
      "execution_count": null,
      "outputs": [
        {
          "output_type": "stream",
          "name": "stdout",
          "text": [
            "313/313 [==============================] - 1s 3ms/step - loss: 0.1602 - accuracy: 0.9552\n"
          ]
        }
      ]
    },
    {
      "cell_type": "markdown",
      "source": [
        "A \"loss\" (perda) é uma medida do quão bem o modelo está se ajustando aos dados de treinamento. Quanto menor o valor da perda, melhor o modelo está se ajustando aos dados. O valor de 0.1602 indica uma boa adequação do modelo aos dados de treinamento.\n",
        "\n",
        "A \"accuracy\" (precisão) é uma métrica que mede a taxa de acertos do modelo em relação aos rótulos verdadeiros dos exemplos de treinamento. Ela é expressa como uma porcentagem, variando de 0 a 1 (ou 0% a 100%). Uma precisão de 0.9552 ou 95.52% indica que o modelo está prevendo corretamente a classe correta para cerca de 95.52% dos exemplos de treinamento"
      ],
      "metadata": {
        "id": "DPptZd0swy1m"
      }
    },
    {
      "cell_type": "markdown",
      "source": [
        "\n",
        "\n",
        "---\n",
        "\n",
        "# **Teste 2:**"
      ],
      "metadata": {
        "id": "0ULp041cwzP-"
      }
    },
    {
      "cell_type": "markdown",
      "source": [
        "Substituindo a função de ativação ReLU por tangente hiperbólica (tanh) na camada oculta."
      ],
      "metadata": {
        "id": "kjniCaGmvTfL"
      }
    },
    {
      "cell_type": "code",
      "source": [
        "model = tf.keras.models.Sequential([\n",
        "    tf.keras.layers.Flatten(input_shape=(28, 28, 1)),\n",
        "    tf.keras.layers.Dense(128, activation='tanh'),\n",
        "    tf.keras.layers.Dense(10, activation='softmax')\n",
        "])"
      ],
      "metadata": {
        "id": "QRwI_2rLvX0-"
      },
      "execution_count": null,
      "outputs": []
    },
    {
      "cell_type": "markdown",
      "source": [
        "Otimizador e função de perda:"
      ],
      "metadata": {
        "id": "voU-9dLCvb7m"
      }
    },
    {
      "cell_type": "code",
      "source": [
        "model.compile(optimizer='adam', loss='sparse_categorical_crossentropy', metrics=['accuracy'])"
      ],
      "metadata": {
        "id": "GtrD4EN-vebG"
      },
      "execution_count": null,
      "outputs": []
    },
    {
      "cell_type": "markdown",
      "source": [
        "Utilizando o otimizador Adam e a função de perda sparse_categorical_crossentropy, que é usada quando os rótulos não estão codificados em one-hot encoding."
      ],
      "metadata": {
        "id": "qd1MfWDuvju5"
      }
    },
    {
      "cell_type": "markdown",
      "source": [
        "A função sparse_categorical_crossentropy espera rótulos na forma de inteiros, em vez de codificação one-hot. Portanto, você precisa garantir que os rótulos y_train estejam no formato correto antes de treinar o modelo.\n",
        "\n",
        "Uma maneira de corrigir isso é ajustar a forma dos rótulos usando a função np.argmax() antes de chamar model.fit(). "
      ],
      "metadata": {
        "id": "O-Tq_VHSwQGQ"
      }
    },
    {
      "cell_type": "code",
      "source": [
        "y_train = np.argmax(y_train, axis=1)"
      ],
      "metadata": {
        "id": "p7XfE5vuwQtj"
      },
      "execution_count": null,
      "outputs": []
    },
    {
      "cell_type": "markdown",
      "source": [
        " Utilizando um tamanho de lote de 64 e treinando o modelo por 20 épocas."
      ],
      "metadata": {
        "id": "f3SUj3OQvtPn"
      }
    },
    {
      "cell_type": "code",
      "source": [
        "model.fit(x_train, y_train, batch_size=64, epochs=20)"
      ],
      "metadata": {
        "colab": {
          "base_uri": "https://localhost:8080/"
        },
        "id": "K1O-pmscvp8n",
        "outputId": "43ee164c-7ac3-4f04-bcaa-6017918d3e9e"
      },
      "execution_count": null,
      "outputs": [
        {
          "output_type": "stream",
          "name": "stdout",
          "text": [
            "Epoch 1/20\n",
            "938/938 [==============================] - 6s 6ms/step - loss: 0.3278 - accuracy: 0.1001\n",
            "Epoch 2/20\n",
            "938/938 [==============================] - 4s 4ms/step - loss: 0.1661 - accuracy: 0.0992\n",
            "Epoch 3/20\n",
            "938/938 [==============================] - 5s 5ms/step - loss: 0.1185 - accuracy: 0.0992\n",
            "Epoch 4/20\n",
            "938/938 [==============================] - 5s 6ms/step - loss: 0.0906 - accuracy: 0.0987\n",
            "Epoch 5/20\n",
            "938/938 [==============================] - 4s 5ms/step - loss: 0.0712 - accuracy: 0.0989\n",
            "Epoch 6/20\n",
            "938/938 [==============================] - 5s 6ms/step - loss: 0.0573 - accuracy: 0.0990\n",
            "Epoch 7/20\n",
            "938/938 [==============================] - 4s 5ms/step - loss: 0.0458 - accuracy: 0.0989\n",
            "Epoch 8/20\n",
            "938/938 [==============================] - 4s 5ms/step - loss: 0.0376 - accuracy: 0.0991\n",
            "Epoch 9/20\n",
            "938/938 [==============================] - 6s 6ms/step - loss: 0.0298 - accuracy: 0.0990\n",
            "Epoch 10/20\n",
            "938/938 [==============================] - 4s 5ms/step - loss: 0.0244 - accuracy: 0.0989\n",
            "Epoch 11/20\n",
            "938/938 [==============================] - 4s 5ms/step - loss: 0.0192 - accuracy: 0.0989\n",
            "Epoch 12/20\n",
            "938/938 [==============================] - 6s 6ms/step - loss: 0.0154 - accuracy: 0.0989\n",
            "Epoch 13/20\n",
            "938/938 [==============================] - 4s 5ms/step - loss: 0.0128 - accuracy: 0.0989\n",
            "Epoch 14/20\n",
            "938/938 [==============================] - 5s 5ms/step - loss: 0.0093 - accuracy: 0.0988\n",
            "Epoch 15/20\n",
            "938/938 [==============================] - 5s 5ms/step - loss: 0.0080 - accuracy: 0.0988\n",
            "Epoch 16/20\n",
            "938/938 [==============================] - 4s 4ms/step - loss: 0.0070 - accuracy: 0.0987\n",
            "Epoch 17/20\n",
            "938/938 [==============================] - 5s 6ms/step - loss: 0.0059 - accuracy: 0.0988\n",
            "Epoch 18/20\n",
            "938/938 [==============================] - 4s 5ms/step - loss: 0.0045 - accuracy: 0.0987\n",
            "Epoch 19/20\n",
            "938/938 [==============================] - 4s 5ms/step - loss: 0.0038 - accuracy: 0.0987\n",
            "Epoch 20/20\n",
            "938/938 [==============================] - 6s 6ms/step - loss: 0.0042 - accuracy: 0.0987\n"
          ]
        },
        {
          "output_type": "execute_result",
          "data": {
            "text/plain": [
              "<keras.callbacks.History at 0x7f83774de8c0>"
            ]
          },
          "metadata": {},
          "execution_count": 16
        }
      ]
    },
    {
      "cell_type": "markdown",
      "source": [
        "Convertendo os dados para o formato de inteiros"
      ],
      "metadata": {
        "id": "ZZLws4rCxBSm"
      }
    },
    {
      "cell_type": "code",
      "source": [
        "y_test = np.argmax(y_test, axis=1)"
      ],
      "metadata": {
        "id": "fBGf5iloxYOp"
      },
      "execution_count": null,
      "outputs": []
    },
    {
      "cell_type": "markdown",
      "source": [
        "Avaliando o desempenho"
      ],
      "metadata": {
        "id": "D7QCgsT2xYlD"
      }
    },
    {
      "cell_type": "code",
      "source": [
        "test_loss, test_accuracy = model.evaluate(x_test, y_test)"
      ],
      "metadata": {
        "colab": {
          "base_uri": "https://localhost:8080/"
        },
        "id": "E8yo3m1exCoQ",
        "outputId": "0c4db3cb-ac56-40ea-e856-6257b5fdff10"
      },
      "execution_count": null,
      "outputs": [
        {
          "output_type": "stream",
          "name": "stdout",
          "text": [
            "313/313 [==============================] - 1s 2ms/step - loss: 0.0836 - accuracy: 0.0990\n"
          ]
        }
      ]
    },
    {
      "cell_type": "markdown",
      "source": [
        "Loss: O valor de 0.0836 indica a média da perda para os exemplos do conjunto de teste. Essa perda é calculada usando a função de perda que você especificou ao compilar o modelo. Quanto menor o valor da perda, melhor o modelo está performando nos dados de teste.\n",
        "\n",
        "Accuracy: O valor de 0.0990 indica a precisão média do modelo para os exemplos do conjunto de teste. Essa precisão é calculada como a taxa de acertos do modelo em relação aos rótulos verdadeiros dos exemplos do conjunto de teste. Uma precisão de 0.0990 ou 9.90% indica que o modelo está prevendo corretamente a classe correta apenas para cerca de 9.90% dos exemplos do conjunto de teste."
      ],
      "metadata": {
        "id": "ymLU41tYxm3W"
      }
    },
    {
      "cell_type": "markdown",
      "source": [
        "\n",
        "\n",
        "---\n",
        "\n",
        "\n",
        "# **Teste 3:**"
      ],
      "metadata": {
        "id": "P3Nn8_lzzE-z"
      }
    },
    {
      "cell_type": "markdown",
      "source": [
        "Aumentando a quantidade de neuronios na camada oculta para 256"
      ],
      "metadata": {
        "id": "V8aL8Z-dcsuR"
      }
    },
    {
      "cell_type": "code",
      "source": [
        "model = tf.keras.models.Sequential([\n",
        "    tf.keras.layers.Flatten(input_shape=(28, 28, 1)),\n",
        "    tf.keras.layers.Dense(256, activation='relu'),\n",
        "    tf.keras.layers.Dense(10, activation='softmax')\n",
        "])"
      ],
      "metadata": {
        "id": "97dji2oFWy0V"
      },
      "execution_count": 4,
      "outputs": []
    },
    {
      "cell_type": "code",
      "source": [
        "model.compile(optimizer='sgd', loss='categorical_crossentropy', metrics=['accuracy'])"
      ],
      "metadata": {
        "id": "VgVHQkABW6nl"
      },
      "execution_count": 5,
      "outputs": []
    },
    {
      "cell_type": "markdown",
      "source": [
        "Vamos utilizar um batch_size de 64 e 20 épocas"
      ],
      "metadata": {
        "id": "fAEQNxfsFcQe"
      }
    },
    {
      "cell_type": "code",
      "source": [
        "model.fit(x_train, y_train, batch_size=64, epochs=20)"
      ],
      "metadata": {
        "colab": {
          "base_uri": "https://localhost:8080/",
          "height": 0
        },
        "id": "XSIJQlToXDe3",
        "outputId": "44d1604b-cbe3-478a-d9d6-de1b6722ba3d"
      },
      "execution_count": 6,
      "outputs": [
        {
          "output_type": "stream",
          "name": "stdout",
          "text": [
            "Epoch 1/20\n",
            "938/938 [==============================] - 6s 5ms/step - loss: 0.8289 - accuracy: 0.8042\n",
            "Epoch 2/20\n",
            "938/938 [==============================] - 4s 4ms/step - loss: 0.4057 - accuracy: 0.8907\n",
            "Epoch 3/20\n",
            "938/938 [==============================] - 4s 4ms/step - loss: 0.3436 - accuracy: 0.9049\n",
            "Epoch 4/20\n",
            "938/938 [==============================] - 5s 5ms/step - loss: 0.3109 - accuracy: 0.9131\n",
            "Epoch 5/20\n",
            "938/938 [==============================] - 4s 4ms/step - loss: 0.2882 - accuracy: 0.9191\n",
            "Epoch 6/20\n",
            "938/938 [==============================] - 4s 4ms/step - loss: 0.2702 - accuracy: 0.9236\n",
            "Epoch 7/20\n",
            "938/938 [==============================] - 5s 5ms/step - loss: 0.2551 - accuracy: 0.9284\n",
            "Epoch 8/20\n",
            "938/938 [==============================] - 4s 4ms/step - loss: 0.2420 - accuracy: 0.9327\n",
            "Epoch 9/20\n",
            "938/938 [==============================] - 4s 4ms/step - loss: 0.2307 - accuracy: 0.9352\n",
            "Epoch 10/20\n",
            "938/938 [==============================] - 4s 5ms/step - loss: 0.2203 - accuracy: 0.9382\n",
            "Epoch 11/20\n",
            "938/938 [==============================] - 4s 5ms/step - loss: 0.2110 - accuracy: 0.9409\n",
            "Epoch 12/20\n",
            "938/938 [==============================] - 4s 4ms/step - loss: 0.2025 - accuracy: 0.9435\n",
            "Epoch 13/20\n",
            "938/938 [==============================] - 8s 8ms/step - loss: 0.1945 - accuracy: 0.9455\n",
            "Epoch 14/20\n",
            "938/938 [==============================] - 6s 7ms/step - loss: 0.1873 - accuracy: 0.9477\n",
            "Epoch 15/20\n",
            "938/938 [==============================] - 5s 5ms/step - loss: 0.1807 - accuracy: 0.9492\n",
            "Epoch 16/20\n",
            "938/938 [==============================] - 4s 4ms/step - loss: 0.1744 - accuracy: 0.9513\n",
            "Epoch 17/20\n",
            "938/938 [==============================] - 4s 4ms/step - loss: 0.1686 - accuracy: 0.9528\n",
            "Epoch 18/20\n",
            "938/938 [==============================] - 4s 4ms/step - loss: 0.1630 - accuracy: 0.9545\n",
            "Epoch 19/20\n",
            "938/938 [==============================] - 5s 5ms/step - loss: 0.1580 - accuracy: 0.9560\n",
            "Epoch 20/20\n",
            "938/938 [==============================] - 4s 4ms/step - loss: 0.1532 - accuracy: 0.9568\n"
          ]
        },
        {
          "output_type": "execute_result",
          "data": {
            "text/plain": [
              "<keras.callbacks.History at 0x7f5af1ed7c40>"
            ]
          },
          "metadata": {},
          "execution_count": 6
        }
      ]
    },
    {
      "cell_type": "code",
      "source": [
        "test_loss, test_accuracy = model.evaluate(x_test, y_test)"
      ],
      "metadata": {
        "colab": {
          "base_uri": "https://localhost:8080/",
          "height": 0
        },
        "id": "fHHJ3SZoXIWM",
        "outputId": "f3b5bac5-2709-4374-8c37-46d5833c5adb"
      },
      "execution_count": 7,
      "outputs": [
        {
          "output_type": "stream",
          "name": "stdout",
          "text": [
            "313/313 [==============================] - 1s 2ms/step - loss: 0.1519 - accuracy: 0.9552\n"
          ]
        }
      ]
    },
    {
      "cell_type": "markdown",
      "source": [
        "Loss: O valor de 0.1519 indica uma boa adequação do modelo aos dados de treinamento.\n",
        "\n",
        "Accuracy: Uma precisão de 0.9552 ou 95.52% indica que o modelo está prevendo corretamente a classe correta para cerca de 95.52% dos exemplos de treinamento"
      ],
      "metadata": {
        "id": "cQCdHjqQGnrD"
      }
    },
    {
      "cell_type": "markdown",
      "source": [
        "\n",
        "\n",
        "---\n",
        "\n",
        "# Utilizando rede neural CNN"
      ],
      "metadata": {
        "id": "RyouYhru4MNV"
      }
    },
    {
      "cell_type": "markdown",
      "source": [
        "#Teste 1"
      ],
      "metadata": {
        "id": "UkQSv4dCMSVF"
      }
    },
    {
      "cell_type": "markdown",
      "source": [
        "Essas linhas de código abaixo importam as bibliotecas necessárias. O mnist é importado da biblioteca Keras.datasets e é usado para carregar o conjunto de dados MNIST. O Sequential é importado da biblioteca Keras.models e é usado para criar uma sequência de camadas da rede neural. Conv2D, MaxPooling2D, Flatten e Dense são importados da biblioteca Keras.layers e são usados para definir diferentes tipos de camadas da rede neural. to_categorical é importado da biblioteca Keras.utils e é usado para converter os rótulos de classe em formato one-hot."
      ],
      "metadata": {
        "id": "923ivCNJHxHA"
      }
    },
    {
      "cell_type": "code",
      "source": [
        "from keras.datasets import mnist\n",
        "from keras.models import Sequential\n",
        "from keras.layers import Conv2D, MaxPooling2D, Flatten, Dense\n",
        "from keras.utils import to_categorical"
      ],
      "metadata": {
        "id": "PcNQrxxoH_FT"
      },
      "execution_count": 8,
      "outputs": []
    },
    {
      "cell_type": "markdown",
      "source": [
        "Essa linha de código abaixo carregam o conjunto de dados MNIST usando a função load_data() do módulo mnist do Keras.datasets. Ele retorna duas tuplas: uma contendo as imagens de treinamento (x_train) e os rótulos correspondentes (y_train), e a outra contendo as imagens de teste (x_test) e os rótulos correspondentes (y_test)."
      ],
      "metadata": {
        "id": "0KIMQfa1IKxh"
      }
    },
    {
      "cell_type": "code",
      "source": [
        "(x_train, y_train), (x_test, y_test) = mnist.load_data()"
      ],
      "metadata": {
        "id": "jzfoewXlILOK"
      },
      "execution_count": 9,
      "outputs": []
    },
    {
      "cell_type": "markdown",
      "source": [
        "Essas linhas de código abaixo redimensionam e normalizam as imagens de treinamento e teste. As imagens originais têm uma forma de (número de amostras, 28, 28), mas a camada de convolução espera uma entrada com uma dimensão adicional para representar os canais de cor. Portanto, usamos reshape para adicionar uma dimensão adicional de 1, resultando em uma forma de (número de amostras, 28, 28, 1). Em seguida, as imagens são convertidas para o tipo de dados float32 e normalizadas dividindo cada pixel por 255.0, para que os valores estejam na faixa entre 0 e 1."
      ],
      "metadata": {
        "id": "1jvTEsF3ISti"
      }
    },
    {
      "cell_type": "code",
      "source": [
        "x_train = x_train.reshape((-1, 28, 28, 1)).astype('float32') / 255.0\n",
        "x_test = x_test.reshape((-1, 28, 28, 1)).astype('float32') / 255.0"
      ],
      "metadata": {
        "id": "rohw-LvKITVC"
      },
      "execution_count": 10,
      "outputs": []
    },
    {
      "cell_type": "markdown",
      "source": [
        "Essas linhas de código abaixo convertem os rótulos de classe em formato one-hot usando a função to_categorical do Keras.utils. O formato one-hot codifica as classes como vetores binários, onde cada posição do vetor representa uma classe possível e é marcada com 1 se a amostra pertence àquela classe e 0 caso contrário."
      ],
      "metadata": {
        "id": "2sBgi0pMIfFZ"
      }
    },
    {
      "cell_type": "code",
      "source": [
        "y_train = to_categorical(y_train)\n",
        "y_test = to_categorical(y_test)"
      ],
      "metadata": {
        "id": "DvdcxJrEIfcO"
      },
      "execution_count": 11,
      "outputs": []
    },
    {
      "cell_type": "markdown",
      "source": [
        "Essas linhas de código abaixo definem a arquitetura da rede neural. A classe Sequential é inicializada para criar um modelo sequencial. Em seguida, diferentes camadas são adicionadas ao modelo usando o método add(). Primeiro, uma camada convolucional com 32 filtros de tamanho 3x3 e função de ativação ReLU é adicionada, com uma forma de entrada (28, 28, 1). Em seguida, uma camada de max pooling com janela 2x2 é adicionada para reduzir a dimensionalidade. Essa sequência de uma camada convolucional seguida por uma camada de max pooling é repetida com 64 filtros na segunda camada convolucional. Depois disso, a saída da camada de convolução é achatada para uma representação vetorial única usando a camada Flatten(). Duas camadas totalmente conectadas são adicionadas: uma camada oculta com 64 unidades e função de ativação ReLU, e uma camada de saída com 10 unidades (correspondendo às 10 classes do conjunto de dados MNIST) e função de ativação softmax.\n",
        "\n"
      ],
      "metadata": {
        "id": "Q96ZriuaI7MT"
      }
    },
    {
      "cell_type": "code",
      "source": [
        "model = Sequential()\n",
        "model.add(Conv2D(32, (3, 3), activation='relu', input_shape=(28, 28, 1)))\n",
        "model.add(MaxPooling2D((2, 2)))\n",
        "model.add(Conv2D(64, (3, 3), activation='relu'))\n",
        "model.add(MaxPooling2D((2, 2)))\n",
        "model.add(Flatten())\n",
        "model.add(Dense(64, activation='relu'))\n",
        "model.add(Dense(10, activation='softmax'))"
      ],
      "metadata": {
        "id": "4ySxQbtiI7hC"
      },
      "execution_count": 12,
      "outputs": []
    },
    {
      "cell_type": "markdown",
      "source": [
        "Essa linha de código abaixo compilam o modelo. O otimizador 'adam' é usado, que é uma variante do otimizador de descida do gradiente estocástico (SGD). A função de perda 'categorical_crossentropy' é usada, pois temos várias classes categóricas. Além disso, a métrica de avaliação 'accuracy' é especificada para monitorar o desempenho durante o treinamento.\n",
        "\n"
      ],
      "metadata": {
        "id": "vBMRY0JXJTKp"
      }
    },
    {
      "cell_type": "code",
      "source": [
        "model.compile(optimizer='adam', loss='categorical_crossentropy', metrics=['accuracy'])"
      ],
      "metadata": {
        "id": "2AyhrX8jJTf3"
      },
      "execution_count": 13,
      "outputs": []
    },
    {
      "cell_type": "markdown",
      "source": [
        "Essa linha de código abaixo treinam o modelo. A função fit() é usada para ajustar o modelo aos dados de treinamento. x_train e y_train são os dados de treinamento, epochs=10 define o número de épocas de treinamento, batch_size=128 especifica o tamanho do lote usado durante o treinamento e validation_data=(x_test, y_test) indica os dados de validação usados durante o treinamento para avaliar o desempenho do modelo.\n",
        "\n",
        "\n",
        "\n",
        "\n"
      ],
      "metadata": {
        "id": "V8hvAd3vJT7T"
      }
    },
    {
      "cell_type": "code",
      "source": [
        "model.fit(x_train, y_train, epochs=10, batch_size=128, validation_data=(x_test, y_test))"
      ],
      "metadata": {
        "colab": {
          "base_uri": "https://localhost:8080/",
          "height": 0
        },
        "id": "BvYqWZG7JUTR",
        "outputId": "e82b0f0f-be68-43f7-963b-df0d0e21126c"
      },
      "execution_count": 14,
      "outputs": [
        {
          "output_type": "stream",
          "name": "stdout",
          "text": [
            "Epoch 1/10\n",
            "469/469 [==============================] - 43s 91ms/step - loss: 0.2373 - accuracy: 0.9342 - val_loss: 0.0608 - val_accuracy: 0.9808\n",
            "Epoch 2/10\n",
            "469/469 [==============================] - 43s 92ms/step - loss: 0.0612 - accuracy: 0.9816 - val_loss: 0.0581 - val_accuracy: 0.9818\n",
            "Epoch 3/10\n",
            "469/469 [==============================] - 44s 95ms/step - loss: 0.0435 - accuracy: 0.9867 - val_loss: 0.0407 - val_accuracy: 0.9871\n",
            "Epoch 4/10\n",
            "469/469 [==============================] - 43s 92ms/step - loss: 0.0340 - accuracy: 0.9892 - val_loss: 0.0360 - val_accuracy: 0.9880\n",
            "Epoch 5/10\n",
            "469/469 [==============================] - 42s 89ms/step - loss: 0.0275 - accuracy: 0.9913 - val_loss: 0.0289 - val_accuracy: 0.9912\n",
            "Epoch 6/10\n",
            "469/469 [==============================] - 43s 92ms/step - loss: 0.0225 - accuracy: 0.9929 - val_loss: 0.0292 - val_accuracy: 0.9906\n",
            "Epoch 7/10\n",
            "469/469 [==============================] - 42s 89ms/step - loss: 0.0184 - accuracy: 0.9939 - val_loss: 0.0375 - val_accuracy: 0.9871\n",
            "Epoch 8/10\n",
            "469/469 [==============================] - 42s 90ms/step - loss: 0.0137 - accuracy: 0.9959 - val_loss: 0.0290 - val_accuracy: 0.9902\n",
            "Epoch 9/10\n",
            "469/469 [==============================] - 44s 93ms/step - loss: 0.0116 - accuracy: 0.9963 - val_loss: 0.0324 - val_accuracy: 0.9903\n",
            "Epoch 10/10\n",
            "469/469 [==============================] - 43s 92ms/step - loss: 0.0098 - accuracy: 0.9969 - val_loss: 0.0382 - val_accuracy: 0.9891\n"
          ]
        },
        {
          "output_type": "execute_result",
          "data": {
            "text/plain": [
              "<keras.callbacks.History at 0x7f5af1d379d0>"
            ]
          },
          "metadata": {},
          "execution_count": 14
        }
      ]
    },
    {
      "cell_type": "markdown",
      "source": [
        "Para obter o resultado de desempenho da rede neural treinada, você pode usar o método evaluate() do modelo. O método evaluate() calcula a perda e a métrica especificada durante o treinamento (nesse caso, a precisão) nos dados de teste fornecidos (x_test e y_test). O valor da perda e a precisão são então retornados."
      ],
      "metadata": {
        "id": "H2I4lnC3J-1N"
      }
    },
    {
      "cell_type": "code",
      "source": [
        "loss, accuracy = model.evaluate(x_test, y_test)\n",
        "print('Test Loss:', loss)\n",
        "print('Test Accuracy:', accuracy)"
      ],
      "metadata": {
        "colab": {
          "base_uri": "https://localhost:8080/",
          "height": 0
        },
        "id": "6Hn-VytMJ_NN",
        "outputId": "3dbeb538-91ba-42dc-81bb-0890d18052c2"
      },
      "execution_count": 15,
      "outputs": [
        {
          "output_type": "stream",
          "name": "stdout",
          "text": [
            "313/313 [==============================] - 2s 7ms/step - loss: 0.0382 - accuracy: 0.9891\n",
            "Test Loss: 0.03818608820438385\n",
            "Test Accuracy: 0.9890999794006348\n"
          ]
        }
      ]
    },
    {
      "cell_type": "markdown",
      "source": [
        "Esses números indicam um bom desempenho do modelo treinado. A perda é baixa e a precisão é alta, sugerindo que a rede neural está fazendo previsões precisas para a maioria das amostras de teste.\n",
        "\n",
        "loss: 0.0382 indica o valor da perda obtido no conjunto de teste. A perda é de aproximadamente 0.0382.\n",
        "\n",
        "accuracy: 0.9891 indica a precisão alcançada no conjunto de teste. A precisão é de aproximadamente 0.9891, o que significa que cerca de 98,91% das amostras de teste foram classificadas corretamente pela rede neural."
      ],
      "metadata": {
        "id": "7dblgjh6LiBq"
      }
    },
    {
      "cell_type": "markdown",
      "source": [
        "\n",
        "\n",
        "---\n",
        "#Teste 2\n",
        "\n"
      ],
      "metadata": {
        "id": "E79HAwI5MgBu"
      }
    },
    {
      "cell_type": "markdown",
      "source": [
        "Neste exemplo, estamos adaptando a arquitetura da CNN para lidar com imagens de tamanho 28x28 pixels e uma única camada de cor (escala de cinza). Portanto, fazemos algumas modificações, como o ajuste da forma de entrada, que agora é (28, 28, 1), e a remoção da camada de pooling adicional para preservar mais informações. Alteramos também a função de ativação para sigmoid."
      ],
      "metadata": {
        "id": "cW7n8UQ2MjGy"
      }
    },
    {
      "cell_type": "code",
      "source": [
        "from keras.datasets import mnist\n",
        "from keras.models import Sequential\n",
        "from keras.layers import Conv2D, MaxPooling2D, Flatten, Dense\n",
        "from keras.utils import to_categorical\n",
        "\n",
        "# Carregando o conjunto de dados MNIST\n",
        "(x_train, y_train), (x_test, y_test) = mnist.load_data()\n",
        "\n",
        "# Pré-processamento dos dados\n",
        "x_train = x_train.reshape(-1, 28, 28, 1).astype('float32') / 255.0\n",
        "x_test = x_test.reshape(-1, 28, 28, 1).astype('float32') / 255.0\n",
        "y_train = to_categorical(y_train)\n",
        "y_test = to_categorical(y_test)\n",
        "\n",
        "# Criando o modelo da CNN\n",
        "model = Sequential()\n",
        "model.add(Conv2D(32, (3, 3), activation='sigmoid', input_shape=(28, 28, 1)))\n",
        "model.add(MaxPooling2D((2, 2)))\n",
        "model.add(Conv2D(64, (3, 3), activation='sigmoid'))\n",
        "model.add(MaxPooling2D((2, 2)))\n",
        "model.add(Flatten())\n",
        "model.add(Dense(64, activation='sigmoid'))\n",
        "model.add(Dense(10, activation='softmax'))\n",
        "\n",
        "# Compilando e treinando o modelo\n",
        "model.compile(optimizer='adam', loss='categorical_crossentropy', metrics=['accuracy'])\n",
        "model.fit(x_train, y_train, epochs=10, batch_size=128, validation_data=(x_test, y_test))\n",
        "\n",
        "# Avaliando o desempenho do modelo nos dados de teste\n",
        "print('\\n')\n",
        "loss, accuracy = model.evaluate(x_test, y_test)\n",
        "print('\\nTest Loss:', loss)\n",
        "print('Test Accuracy:', accuracy)\n"
      ],
      "metadata": {
        "colab": {
          "base_uri": "https://localhost:8080/",
          "height": 0
        },
        "id": "9OnTEEPEMj2A",
        "outputId": "feb661cd-8100-49e2-b190-547994665e07"
      },
      "execution_count": 18,
      "outputs": [
        {
          "output_type": "stream",
          "name": "stdout",
          "text": [
            "Epoch 1/10\n",
            "469/469 [==============================] - 46s 97ms/step - loss: 1.2412 - accuracy: 0.5919 - val_loss: 0.3716 - val_accuracy: 0.9020\n",
            "Epoch 2/10\n",
            "469/469 [==============================] - 43s 91ms/step - loss: 0.2747 - accuracy: 0.9248 - val_loss: 0.1787 - val_accuracy: 0.9514\n",
            "Epoch 3/10\n",
            "469/469 [==============================] - 43s 92ms/step - loss: 0.1567 - accuracy: 0.9564 - val_loss: 0.1233 - val_accuracy: 0.9639\n",
            "Epoch 4/10\n",
            "469/469 [==============================] - 44s 93ms/step - loss: 0.1113 - accuracy: 0.9683 - val_loss: 0.0923 - val_accuracy: 0.9737\n",
            "Epoch 5/10\n",
            "469/469 [==============================] - 43s 92ms/step - loss: 0.0875 - accuracy: 0.9752 - val_loss: 0.0798 - val_accuracy: 0.9752\n",
            "Epoch 6/10\n",
            "469/469 [==============================] - 45s 97ms/step - loss: 0.0734 - accuracy: 0.9784 - val_loss: 0.0663 - val_accuracy: 0.9798\n",
            "Epoch 7/10\n",
            "469/469 [==============================] - 46s 97ms/step - loss: 0.0634 - accuracy: 0.9809 - val_loss: 0.0619 - val_accuracy: 0.9818\n",
            "Epoch 8/10\n",
            "469/469 [==============================] - 45s 96ms/step - loss: 0.0545 - accuracy: 0.9845 - val_loss: 0.0536 - val_accuracy: 0.9838\n",
            "Epoch 9/10\n",
            "469/469 [==============================] - 46s 97ms/step - loss: 0.0494 - accuracy: 0.9848 - val_loss: 0.0496 - val_accuracy: 0.9844\n",
            "Epoch 10/10\n",
            "469/469 [==============================] - 44s 94ms/step - loss: 0.0447 - accuracy: 0.9870 - val_loss: 0.0435 - val_accuracy: 0.9860\n",
            "\n",
            "\n",
            "313/313 [==============================] - 4s 14ms/step - loss: 0.0435 - accuracy: 0.9860\n",
            "\n",
            "Test Loss: 0.04353326931595802\n",
            "Test Accuracy: 0.9860000014305115\n"
          ]
        }
      ]
    },
    {
      "cell_type": "markdown",
      "source": [
        "Esses números indicam um bom desempenho do modelo treinado. A perda é baixa e a precisão é alta, sugerindo que a rede neural está fazendo previsões precisas para a maioria das amostras de teste.\n",
        "\n",
        "loss: 0.0435 indica o valor da perda obtido no conjunto de teste. A perda é de aproximadamente 0.0435.\n",
        "\n",
        "accuracy: 0.9860 indica a precisão alcançada no conjunto de teste. A precisão é de aproximadamente 0.9860, o que significa que cerca de 98,60% das amostras de teste foram classificadas corretamente pela rede neural."
      ],
      "metadata": {
        "id": "_aC9JyEMPdoJ"
      }
    },
    {
      "cell_type": "markdown",
      "source": [
        "\n",
        "\n",
        "---\n",
        "#Teste 3\n"
      ],
      "metadata": {
        "id": "gvSF-ICVP84I"
      }
    },
    {
      "cell_type": "markdown",
      "source": [
        "Neste exemplo, há algumas alterações nos parâmetros da arquitetura da CNN em comparação com o exemplo anterior:\n",
        "\n",
        "A primeira camada convolucional agora usa 16 filtros com tamanho 5x5.\n",
        "A segunda camada convolucional agora usa 32 filtros com tamanho 3x3."
      ],
      "metadata": {
        "id": "Au8R7XYLQJeg"
      }
    },
    {
      "cell_type": "code",
      "source": [
        "from keras.datasets import mnist\n",
        "from keras.models import Sequential\n",
        "from keras.layers import Conv2D, MaxPooling2D, Flatten, Dense\n",
        "from keras.utils import to_categorical\n",
        "\n",
        "# Carregando o conjunto de dados MNIST\n",
        "(x_train, y_train), (x_test, y_test) = mnist.load_data()\n",
        "\n",
        "# Pré-processamento dos dados\n",
        "x_train = x_train.reshape(-1, 28, 28, 1).astype('float32') / 255.0\n",
        "x_test = x_test.reshape(-1, 28, 28, 1).astype('float32') / 255.0\n",
        "y_train = to_categorical(y_train)\n",
        "y_test = to_categorical(y_test)\n",
        "\n",
        "# Criando o modelo da CNN com uma variação de parâmetros\n",
        "model = Sequential()\n",
        "model.add(Conv2D(16, (5, 5), activation='relu', input_shape=(28, 28, 1)))\n",
        "model.add(MaxPooling2D((2, 2)))\n",
        "model.add(Conv2D(32, (3, 3), activation='relu'))\n",
        "model.add(MaxPooling2D((2, 2)))\n",
        "model.add(Flatten())\n",
        "model.add(Dense(64, activation='relu'))\n",
        "model.add(Dense(10, activation='softmax'))\n",
        "\n",
        "# Compilando e treinando o modelo\n",
        "model.compile(optimizer='adam', loss='categorical_crossentropy', metrics=['accuracy'])\n",
        "model.fit(x_train, y_train, epochs=10, batch_size=128, validation_data=(x_test, y_test))\n",
        "\n",
        "# Avaliando o desempenho do modelo nos dados de teste\n",
        "print('\\n')\n",
        "loss, accuracy = model.evaluate(x_test, y_test)\n",
        "print('\\nTest Loss:', loss)\n",
        "print('Test Accuracy:', accuracy)\n"
      ],
      "metadata": {
        "colab": {
          "base_uri": "https://localhost:8080/",
          "height": 0
        },
        "id": "2j-vx2X2QJ_F",
        "outputId": "2df6c8d4-cd73-48d6-bf0f-749c3ddf0215"
      },
      "execution_count": 17,
      "outputs": [
        {
          "output_type": "stream",
          "name": "stdout",
          "text": [
            "Epoch 1/10\n",
            "469/469 [==============================] - 27s 56ms/step - loss: 0.2701 - accuracy: 0.9218 - val_loss: 0.0915 - val_accuracy: 0.9713\n",
            "Epoch 2/10\n",
            "469/469 [==============================] - 25s 54ms/step - loss: 0.0715 - accuracy: 0.9785 - val_loss: 0.0483 - val_accuracy: 0.9851\n",
            "Epoch 3/10\n",
            "469/469 [==============================] - 28s 60ms/step - loss: 0.0510 - accuracy: 0.9847 - val_loss: 0.0434 - val_accuracy: 0.9860\n",
            "Epoch 4/10\n",
            "469/469 [==============================] - 26s 55ms/step - loss: 0.0419 - accuracy: 0.9874 - val_loss: 0.0435 - val_accuracy: 0.9861\n",
            "Epoch 5/10\n",
            "469/469 [==============================] - 25s 54ms/step - loss: 0.0354 - accuracy: 0.9887 - val_loss: 0.0326 - val_accuracy: 0.9910\n",
            "Epoch 6/10\n",
            "469/469 [==============================] - 25s 54ms/step - loss: 0.0294 - accuracy: 0.9908 - val_loss: 0.0335 - val_accuracy: 0.9892\n",
            "Epoch 7/10\n",
            "469/469 [==============================] - 25s 54ms/step - loss: 0.0257 - accuracy: 0.9918 - val_loss: 0.0481 - val_accuracy: 0.9852\n",
            "Epoch 8/10\n",
            "469/469 [==============================] - 25s 54ms/step - loss: 0.0223 - accuracy: 0.9928 - val_loss: 0.0345 - val_accuracy: 0.9888\n",
            "Epoch 9/10\n",
            "469/469 [==============================] - 25s 54ms/step - loss: 0.0197 - accuracy: 0.9934 - val_loss: 0.0386 - val_accuracy: 0.9884\n",
            "Epoch 10/10\n",
            "469/469 [==============================] - 25s 54ms/step - loss: 0.0166 - accuracy: 0.9946 - val_loss: 0.0289 - val_accuracy: 0.9907\n",
            "\n",
            "\n",
            "313/313 [==============================] - 1s 4ms/step - loss: 0.0289 - accuracy: 0.9907\n",
            "\n",
            "Test Loss: 0.028864169493317604\n",
            "Test Accuracy: 0.9907000064849854\n"
          ]
        }
      ]
    },
    {
      "cell_type": "markdown",
      "source": [
        "loss: 0.0288 indica o valor da perda obtido no conjunto de teste. A perda é de aproximadamente 0.0288.\n",
        "\n",
        "accuracy: 0.9907 indica a precisão alcançada no conjunto de teste. A precisão é de aproximadamente 0.9907, o que significa que cerca de 99,07% das amostras de teste foram classificadas corretamente pela rede neural."
      ],
      "metadata": {
        "id": "7DbyyjEvQKff"
      }
    }
  ]
}